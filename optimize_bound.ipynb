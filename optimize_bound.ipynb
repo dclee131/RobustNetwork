{
 "cells": [
  {
   "cell_type": "code",
   "execution_count": 1,
   "metadata": {
    "collapsed": true
   },
   "outputs": [],
   "source": [
    "using MATLAB\n",
    "using Ipopt\n",
    "using JuMP"
   ]
  },
  {
   "cell_type": "code",
   "execution_count": 11,
   "metadata": {},
   "outputs": [
    {
     "name": "stdout",
     "output_type": "stream",
     "text": [
      ">> >> >> >> >> Computation time for direct approach with analytical expression: 111.7054\n"
     ]
    }
   ],
   "source": [
    "mat\"\"\"\n",
    "sys_case=39;\n",
    "method=2;\n",
    "compute_gain;\n",
    "$gain_mtx=gain_mtx;\n",
    "$w_0=E*delta0;\n",
    "$num_line=num_line;\n",
    "$num_bus=num_bus;\n",
    "$idx_gen=idx_gen;\n",
    "\"\"\"\n",
    "size_w=convert(Int64,num_line);\n",
    "size_u=convert(Int64,num_bus);"
   ]
  },
  {
   "cell_type": "code",
   "execution_count": 15,
   "metadata": {},
   "outputs": [
    {
     "name": "stdout",
     "output_type": "stream",
     "text": [
      "This is Ipopt version 3.12.8, running with linear solver mumps.\n",
      "NOTE: Other linear solvers might be more efficient (see Ipopt documentation).\n",
      "\n",
      "Number of nonzeros in equality constraint Jacobian...:        0\n",
      "Number of nonzeros in inequality constraint Jacobian.:     6118\n",
      "Number of nonzeros in Lagrangian Hessian.............:       46\n",
      "\n",
      "Total number of variables............................:      131\n",
      "                     variables with only lower bounds:        0\n",
      "                variables with lower and upper bounds:      131\n",
      "                     variables with only upper bounds:        0\n",
      "Total number of equality constraints.................:        0\n",
      "Total number of inequality constraints...............:       92\n",
      "        inequality constraints with only lower bounds:        0\n",
      "   inequality constraints with lower and upper bounds:        0\n",
      "        inequality constraints with only upper bounds:       92\n",
      "\n",
      "iter    objective    inf_pr   inf_du lg(mu)  ||d||  lg(rg) alpha_du alpha_pr  ls\n",
      "   0 -9.9999900e-03 2.08e+01 1.31e+00  -1.0 0.00e+00    -  0.00e+00 0.00e+00   0\n",
      "   1 -3.4632387e-02 1.59e+01 1.77e+00  -1.0 1.82e-01    -  1.07e-01 2.31e-01f  1\n",
      "   2 -7.3535268e-02 1.17e+01 1.50e+00  -1.0 2.75e-01    -  2.51e-01 2.56e-01f  1\n",
      "   3 -1.8173994e-01 7.84e+00 1.14e+00  -1.0 4.19e-01    -  3.04e-01 3.19e-01f  1\n",
      "   4 -6.4254386e-01 5.01e+00 1.21e+00  -1.0 1.37e+00    -  2.99e-01 3.35e-01f  1\n",
      "   5 -9.4924033e-01 3.73e+00 4.68e+00  -1.0 1.42e+00    -  4.48e-01 2.16e-01f  1\n",
      "   6 -1.0772792e+00 2.62e+00 2.83e+01  -1.0 1.35e+00    -  8.19e-01 2.18e-01h  1\n",
      "   7 -1.2539140e+00 1.36e+00 4.27e+01  -1.0 1.38e+00    -  1.00e+00 4.86e-01h  1\n",
      "   8 -1.3469911e+00 7.43e-01 7.30e+01  -1.0 1.13e+00    -  1.00e+00 5.21e-01h  1\n",
      "   9 -1.3987871e+00 2.82e-01 1.41e+02  -1.0 1.58e-01    -  1.00e+00 6.18e-01h  1\n",
      "iter    objective    inf_pr   inf_du lg(mu)  ||d||  lg(rg) alpha_du alpha_pr  ls\n",
      "  10 -1.3996921e+00 1.48e-01 3.99e+02  -1.0 1.12e-01    -  1.00e+00 4.83e-01h  1\n",
      "  11 -1.3449636e+00 2.13e-02 2.20e+02  -1.0 9.62e-02    -  1.00e+00 8.51e-01h  1\n",
      "  12 -1.1646275e+00 1.12e-02 7.97e+02  -1.0 3.72e-01    -  6.94e-01 4.85e-01h  1\n",
      "  13 -1.1646265e-02 6.84e-03 1.74e+03  -1.0 3.53e+00    -  8.95e-01 3.27e-01h  1\n",
      "  14 -2.9415160e-01 0.00e+00 1.20e+00  -1.0 2.83e-01    -  1.00e+00 1.00e+00h  1\n",
      "  15 -5.5625533e-01 0.00e+00 2.61e+03  -1.7 2.62e-01    -  5.54e-01 1.00e+00f  1\n",
      "  16 -1.5606509e+00 0.00e+00 1.24e+03  -1.7 3.04e+00    -  1.00e+00 3.30e-01f  1\n",
      "  17 -1.5273148e+00 0.00e+00 3.75e+02  -1.7 6.67e-02    -  1.00e+00 5.00e-01f  2\n",
      "  18 -1.5357796e+00 0.00e+00 8.70e-03  -1.7 8.46e-03    -  1.00e+00 1.00e+00h  1\n",
      "  19 -1.5707911e+00 0.00e+00 9.70e+02  -3.8 6.03e-02    -  9.69e-01 5.80e-01f  1\n",
      "iter    objective    inf_pr   inf_du lg(mu)  ||d||  lg(rg) alpha_du alpha_pr  ls\n",
      "  20 -1.5706426e+00 0.00e+00 6.49e-05  -3.8 1.48e-04    -  1.00e+00 1.00e+00f  1\n",
      "  21 -1.5707950e+00 0.00e+00 1.16e-06  -5.7 1.52e-04    -  1.00e+00 1.00e+00f  1\n",
      "  22 -1.5707963e+00 0.00e+00 1.11e-09  -8.6 1.36e-06    -  1.00e+00 1.00e+00h  1\n",
      "\n",
      "Number of Iterations....: 22\n",
      "\n",
      "                                   (scaled)                 (unscaled)\n",
      "Objective...............:  -1.5707963400508693e+00   -1.5707963400508693e+00\n",
      "Dual infeasibility......:   1.1086257295953527e-09    1.1086257295953527e-09\n",
      "Constraint violation....:   0.0000000000000000e+00    0.0000000000000000e+00\n",
      "Complementarity.........:   2.5079882268897789e-09    2.5079882268897789e-09\n",
      "Overall NLP error.......:   2.5079882268897789e-09    2.5079882268897789e-09\n",
      "\n",
      "\n",
      "Number of objective function evaluations             = 24\n",
      "Number of objective gradient evaluations             = 23\n",
      "Number of equality constraint evaluations            = 0\n",
      "Number of inequality constraint evaluations          = 24\n",
      "Number of equality constraint Jacobian evaluations   = 0\n",
      "Number of inequality constraint Jacobian evaluations = 23\n",
      "Number of Lagrangian Hessian evaluations             = 22\n",
      "Total CPU secs in IPOPT (w/o function evaluations)   =      0.032\n",
      "Total CPU secs in NLP function evaluations           =      0.003\n",
      "\n",
      "EXIT: Optimal Solution Found.\n",
      "w = [0.109596, 0.106491, 0.0585653, 0.0578438, 0.0672053, 0.0745212, 0.087522, 0.0525669, 0.0507898, 0.109952, 0.0455971, 0.0643624, 0.0316448, 0.0860461, 0.0958706, 0.0899221, 0.0319022, 0.046232, 0.0562791, 0.12109, 0.11826, 0.0441115, 0.0823354, 0.0623245, 0.0724686, 0.0474903, 0.0469052, 0.0867326, 0.0798093, 0.102338, 0.0508258, 0.061271, 0.0524591, 0.0367423, 0.0443595, 0.0444533, 0.0496991, 0.0679643, 0.080744, 0.0734166, 0.0788544, 0.0817062, 0.0712356, 0.0782712, 0.0468243, 0.0718913] u = [1.5708, 0.000271474, 0.000326589, 0.00174707, 0.00145424, 0.000527461, 0.000469629, 0.000917232, 0.00264058, 0.00140195, 0.00893456, 0.00374935, 0.00565671, 0.00245168, 0.00162883, 0.00113909, 0.00153836, 0.00168941, 0.00423328, 0.00118787, 0.00258343, 0.00207547, 0.00168849, 0.00203366, 0.00394923, 0.00417172, 0.00568313, 0.00633703, 0.00305645, 0.00274751, 0.00244691, 0.00134035, 0.00277451, 0.00518608, 0.00207198, 0.00533752, 0.00556707, 0.0047923, 0.0037539]\n"
     ]
    },
    {
     "ename": "LoadError",
     "evalue": "DomainError:",
     "output_type": "error",
     "traceback": [
      "DomainError:",
      "",
      "Stacktrace:",
      " [1] \u001b[1m#eigmin#47\u001b[22m\u001b[22m\u001b[1m(\u001b[22m\u001b[22m::Bool, ::Bool, ::Function, ::Array{Float64,2}\u001b[1m)\u001b[22m\u001b[22m at \u001b[1m./linalg/eigen.jl:280\u001b[22m\u001b[22m",
      " [2] \u001b[1meigmin\u001b[22m\u001b[22m\u001b[1m(\u001b[22m\u001b[22m::Array{Float64,2}\u001b[1m)\u001b[22m\u001b[22m at \u001b[1m./linalg/eigen.jl:278\u001b[22m\u001b[22m",
      " [3] \u001b[1minclude_string\u001b[22m\u001b[22m\u001b[1m(\u001b[22m\u001b[22m::String, ::String\u001b[1m)\u001b[22m\u001b[22m at \u001b[1m./loading.jl:515\u001b[22m\u001b[22m"
     ]
    }
   ],
   "source": [
    "c=ones(size_u);\n",
    "c=zeros(size_u); c[1]=1;\n",
    "\n",
    "m = Model(solver=IpoptSolver());\n",
    "@variable(m, 0 <= w[1:size_w] <= pi/2,start=0)\n",
    "@variable(m, 0 <= sinw[1:size_w] <= 1,start=0)\n",
    "@variable(m, 0 <= u[1:size_u] <= pi/2,start=0)\n",
    "\n",
    "@NLconstraint(m, myconstr[i=1:size_w], sinw[i] <= sin(abs.(w_0[i])+w[i]))\n",
    "@constraint(m,gain_mtx[3]*u.<=(eye(size_w)-gain_mtx[4]*diagm(cos.(w_0)))*w-gain_mtx[4]*sin.(abs.(w_0))+gain_mtx[4]*sinw)\n",
    "@objective(m, Max, c'*u)\n",
    "solve(m)\n",
    "println(\"w = \", getvalue(w), \" u = \", getvalue(u))\n",
    "\n",
    "sgt_mtx=eye(size_w)-gain_mtx[4]*(diagm(cos.(w_0).*getvalue(w)+sin.(abs.(w_0))-sin.(abs.(w_0)+getvalue(w))));\n",
    "eigmin(sgt_mtx)"
   ]
  },
  {
   "cell_type": "code",
   "execution_count": 185,
   "metadata": {},
   "outputs": [
    {
     "data": {
      "text/plain": [
       "0.2617993877991494"
      ]
     },
     "execution_count": 185,
     "metadata": {},
     "output_type": "execute_result"
    }
   ],
   "source": [
    "w_max=pi/12*ones(size_w);\n",
    "sgt_mtx=eye(size_w)-gain_mtx[4]*(diagm(cos.(w_0).*w_max+D*sin.(w_0)-sin.(abs.(w_0)+w_max)));\n",
    "eigmin(sgt_mtx)\n",
    "#maximum(getvalue(w))\n",
    "pi/12"
   ]
  }
 ],
 "metadata": {
  "kernelspec": {
   "display_name": "Julia 0.6.0",
   "language": "julia",
   "name": "julia-0.6"
  },
  "language_info": {
   "file_extension": ".jl",
   "mimetype": "application/julia",
   "name": "julia",
   "version": "0.6.0"
  }
 },
 "nbformat": 4,
 "nbformat_minor": 2
}
