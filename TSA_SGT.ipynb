{
 "cells": [
  {
   "cell_type": "code",
   "execution_count": 1,
   "metadata": {},
   "outputs": [],
   "source": [
    "using MATLAB\n",
    "using Ipopt\n",
    "using JuMP"
   ]
  },
  {
   "cell_type": "code",
   "execution_count": 174,
   "metadata": {},
   "outputs": [
    {
     "name": "stdout",
     "output_type": "stream",
     "text": [
      ">> >> >> >> Progress: 1/4\n",
      "Progress: 2/4\n",
      "Progress: 3/4\n",
      "Progress: 4/4\n"
     ]
    }
   ],
   "source": [
    "mat\"\"\"\n",
    "sys_case=39;\n",
    "compute_gain;\n",
    "$gain_mtx=gain_mtx;\n",
    "$w_0=E*delta0;\n",
    "$num_line=num_line;\n",
    "$num_bus=num_bus;\n",
    "\"\"\"\n",
    "size_w=convert(Int64,num_line);\n",
    "size_u=convert(Int64,num_bus);"
   ]
  },
  {
   "cell_type": "code",
   "execution_count": 175,
   "metadata": {},
   "outputs": [
    {
     "name": "stdout",
     "output_type": "stream",
     "text": [
      "This is Ipopt version 3.12.8, running with linear solver mumps.\n",
      "NOTE: Other linear solvers might be more efficient (see Ipopt documentation).\n",
      "\n",
      "Number of nonzeros in equality constraint Jacobian...:        0\n",
      "Number of nonzeros in inequality constraint Jacobian.:     6072\n",
      "Number of nonzeros in Lagrangian Hessian.............:       46\n",
      "\n",
      "Total number of variables............................:      130\n",
      "                     variables with only lower bounds:        0\n",
      "                variables with lower and upper bounds:      130\n",
      "                     variables with only upper bounds:        0\n",
      "Total number of equality constraints.................:        0\n",
      "Total number of inequality constraints...............:       92\n",
      "        inequality constraints with only lower bounds:        0\n",
      "   inequality constraints with lower and upper bounds:        0\n",
      "        inequality constraints with only upper bounds:       92\n",
      "\n",
      "iter    objective    inf_pr   inf_du lg(mu)  ||d||  lg(rg) alpha_du alpha_pr  ls\n",
      "   0 -9.9999900e-03 1.76e+01 1.25e+00  -1.0 0.00e+00    -  0.00e+00 0.00e+00   0\n",
      "   1 -4.6471789e-02 1.11e+01 3.38e+00  -1.0 1.96e-01    -  9.32e-02 3.65e-01f  1\n",
      "   2 -8.0468646e-02 8.49e+00 2.29e+00  -1.0 3.62e-01    -  3.37e-01 2.26e-01f  1\n",
      "   3 -1.4743955e-01 6.93e+00 1.90e+00  -1.0 6.97e-01    -  2.35e-01 1.73e-01f  1\n",
      "   4 -3.8486458e-01 4.45e+00 2.59e+00  -1.0 7.30e-01    -  3.96e-01 3.25e-01f  1\n",
      "   5 -7.2858471e-01 2.57e+00 6.91e+00  -1.0 1.09e+00    -  4.75e-01 3.15e-01f  1\n",
      "   6 -7.7640664e-01 9.70e-01 2.14e+01  -1.0 4.06e+00    -  6.24e-01 2.16e-01h  1\n",
      "   7 -7.0647673e-01 8.49e-01 5.63e+01  -1.0 2.30e+00    -  1.00e+00 3.70e-01h  1\n",
      "   8 -3.0243544e-01 5.27e-01 9.46e+01  -1.0 1.11e+00    -  1.00e+00 5.90e-01h  1\n",
      "   9 -2.4327268e-01 3.21e-01 2.16e+02  -1.0 2.53e-01    -  1.00e+00 4.84e-01h  1\n",
      "iter    objective    inf_pr   inf_du lg(mu)  ||d||  lg(rg) alpha_du alpha_pr  ls\n",
      "  10 -1.6722997e-01 1.80e-01 2.76e+02  -1.0 1.56e-01    -  1.00e+00 4.86e-01h  1\n",
      "  11 -1.3661497e-01 6.26e-02 6.78e+02  -1.0 1.10e-01    -  1.00e+00 5.99e-01h  1\n",
      "  12 -1.2208873e-01 4.28e-02 2.26e+03  -1.0 7.83e-02    -  1.00e+00 4.06e-01h  1\n",
      "  13 -7.1474772e-02 1.18e-04 1.02e+01  -1.0 7.40e-02    -  1.00e+00 1.00e+00h  1\n",
      "  14 -5.2725214e-02 0.00e+00 1.19e+01  -1.0 2.01e-02    -  1.00e+00 9.98e-01h  1\n",
      "  15 -5.5574297e-02 0.00e+00 3.12e-01  -1.0 2.85e-03    -  1.00e+00 1.00e+00f  1\n",
      "  16 -8.4629080e-02 0.00e+00 4.43e+03  -2.5 2.91e-02    -  6.67e-01 1.00e+00f  1\n",
      "  17 -1.4846614e+00 6.06e-04 3.41e+03  -2.5 2.98e+00    -  3.37e-02 4.70e-01f  1\n",
      "  18 -1.5705527e+00 5.27e-04 1.25e+03  -2.5 8.36e-01    -  7.22e-01 1.03e-01f  1\n",
      "  19 -1.5673520e+00 2.98e-04 6.21e+02  -2.5 1.28e-02    -  1.00e+00 2.50e-01f  3\n",
      "iter    objective    inf_pr   inf_du lg(mu)  ||d||  lg(rg) alpha_du alpha_pr  ls\n",
      "  20 -1.5674132e+00 0.00e+00 9.77e-02  -2.5 7.45e-03    -  1.00e+00 1.00e+00h  1\n",
      "  21 -1.5674181e+00 0.00e+00 1.37e-03  -2.5 6.12e-03    -  1.00e+00 1.00e+00h  1\n",
      "  22 -1.5707958e+00 0.00e+00 6.08e+01  -3.8 3.82e-03    -  1.00e+00 8.85e-01h  1\n",
      "  23 -1.5706445e+00 0.00e+00 4.87e-05  -3.8 1.51e-04    -  1.00e+00 1.00e+00f  1\n",
      "  24 -1.5707958e+00 0.00e+00 1.77e-06  -5.7 1.51e-04    -  1.00e+00 1.00e+00f  1\n",
      "  25 -1.5707963e+00 0.00e+00 7.91e-10  -8.6 5.46e-07    -  1.00e+00 1.00e+00h  1\n",
      "\n",
      "Number of Iterations....: 25\n",
      "\n",
      "                                   (scaled)                 (unscaled)\n",
      "Objective...............:  -1.5707963400554832e+00   -1.5707963400554832e+00\n",
      "Dual infeasibility......:   7.9128959052501991e-10    7.9128959052501991e-10\n",
      "Constraint violation....:   0.0000000000000000e+00    0.0000000000000000e+00\n",
      "Complementarity.........:   2.5070491270724535e-09    2.5070491270724535e-09\n",
      "Overall NLP error.......:   2.5070491270724535e-09    2.5070491270724535e-09\n",
      "\n",
      "\n",
      "Number of objective function evaluations             = 28\n",
      "Number of objective gradient evaluations             = 26\n",
      "Number of equality constraint evaluations            = 0\n",
      "Number of inequality constraint evaluations          = 28\n",
      "Number of equality constraint Jacobian evaluations   = 0\n",
      "Number of inequality constraint Jacobian evaluations = 26\n",
      "Number of Lagrangian Hessian evaluations             = 25\n",
      "Total CPU secs in IPOPT (w/o function evaluations)   =      0.037\n",
      "Total CPU secs in NLP function evaluations           =      0.003\n",
      "\n",
      "EXIT: Optimal Solution Found.\n",
      "w = [0.134414, 0.109563, 0.0950594, 0.0812676, 0.149523, 0.133336, 0.0899915, 0.110725, 0.145048, 0.122172, 0.112106, 0.153565, 0.0996115, 0.149668, 0.136623, 0.126915, 0.103614, 0.0834941, 0.0756696, 0.259547, 0.367674, 0.0790469, 0.0977525, 0.150367, 0.124499, 0.0453574, 0.132252, 0.116232, 0.158808, 0.132651, 0.051051, 0.056726, 0.0532903, 0.0868305, 0.112901, 0.0464309, 0.0942759, 0.0768817, 0.105278, 0.112411, 0.0764093, 0.0928316, 0.088074, 0.0894685, 0.0567467, 0.212232] u = [1.5708, 0.00288035, 0.00125965, 0.000885087, 0.000200072, 0.000178043, 0.00121747, 0.00347008, 0.00404934, 0.00730862, 0.00931521, 0.00649449, 0.00955552, 0.0150363, 0.0145498, 0.0139639, 0.0146121, 0.00618929, 0.0112151, 0.0107126, 0.0106927, 0.00966301, 0.00789778, 0.0032815, 0.00263898, 0.00349296, 0.0101433, 0.00296664, 0.00197954, 0.00480271, 0.0109363, 0.0106488, 0.00374127, 0.00761939, 0.00592238, 0.00452919, 0.00680598, 0.00665321]\n"
     ]
    },
    {
     "data": {
      "text/plain": [
       "0.9653236783697489"
      ]
     },
     "execution_count": 175,
     "metadata": {},
     "output_type": "execute_result"
    }
   ],
   "source": [
    "c=ones(size_u);\n",
    "c=zeros(size_u); c[1]=1;\n",
    "D=diagm(sign.(w_0))\n",
    "\n",
    "m = Model(solver=IpoptSolver());\n",
    "@variable(m, 0 <= w[1:size_w] <= pi/2,start=0)\n",
    "@variable(m, 0 <= sinw[1:size_w] <= 1,start=0)\n",
    "@variable(m, 0 <= u[1:size_u] <= pi/2,start=0)\n",
    "\n",
    "@NLconstraint(m, myconstr[i=1:size_w], sinw[i] <= sin(abs(w_0[i])+w[i]))\n",
    "@constraint(m,gain_mtx[3]*u.<=(eye(size_w)-gain_mtx[4]*diagm(cos.(w_0)))*w-gain_mtx[4]*D*sin.(w_0)+gain_mtx[4]*sinw)\n",
    "@objective(m, Max, c'*u)\n",
    "solve(m)\n",
    "println(\"w = \", getvalue(w), \" u = \", getvalue(u))\n",
    "\n",
    "sgt_mtx=eye(size_w)-gain_mtx[4]*(diagm(cos.(w_0).*getvalue(w)+D*sin.(w_0)-sin.(abs.(w_0)+getvalue(w))));\n",
    "eigmin(sgt_mtx)"
   ]
  },
  {
   "cell_type": "code",
   "execution_count": 185,
   "metadata": {},
   "outputs": [
    {
     "data": {
      "text/plain": [
       "0.2617993877991494"
      ]
     },
     "execution_count": 185,
     "metadata": {},
     "output_type": "execute_result"
    }
   ],
   "source": [
    "w_max=pi/12*ones(size_w);\n",
    "sgt_mtx=eye(size_w)-gain_mtx[4]*(diagm(cos.(w_0).*w_max+D*sin.(w_0)-sin.(abs.(w_0)+w_max)));\n",
    "eigmin(sgt_mtx)\n",
    "#maximum(getvalue(w))\n",
    "pi/12"
   ]
  }
 ],
 "metadata": {
  "kernelspec": {
   "display_name": "Julia 0.6.0",
   "language": "julia",
   "name": "julia-0.6"
  },
  "language_info": {
   "file_extension": ".jl",
   "mimetype": "application/julia",
   "name": "julia",
   "version": "0.6.0"
  }
 },
 "nbformat": 4,
 "nbformat_minor": 2
}
