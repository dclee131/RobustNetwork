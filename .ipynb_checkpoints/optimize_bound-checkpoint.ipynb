{
 "cells": [
  {
   "cell_type": "code",
   "execution_count": 1,
   "metadata": {
    "collapsed": true
   },
   "outputs": [],
   "source": [
    "using MATLAB\n",
    "using Ipopt\n",
    "using JuMP"
   ]
  },
  {
   "cell_type": "code",
   "execution_count": 4,
   "metadata": {},
   "outputs": [
    {
     "name": "stdout",
     "output_type": "stream",
     "text": [
      ">> >> >> >> Computation time for direct approach: 1.144\n"
     ]
    }
   ],
   "source": [
    "mat\"\"\"\n",
    "sys_case=9;\n",
    "compute_gain;\n",
    "$gain_mtx=gain_mtx;\n",
    "$w_0=E*delta0;\n",
    "$num_line=num_line;\n",
    "$num_bus=num_bus;\n",
    "$idx_gen=idx_gen;\n",
    "\"\"\"\n",
    "size_w=convert(Int64,num_line);\n",
    "size_u=convert(Int64,num_bus);"
   ]
  },
  {
   "cell_type": "code",
   "execution_count": 6,
   "metadata": {},
   "outputs": [
    {
     "name": "stdout",
     "output_type": "stream",
     "text": [
      "\n",
      "******************************************************************************\n",
      "This program contains Ipopt, a library for large-scale nonlinear optimization.\n",
      " Ipopt is released as open source code under the Eclipse Public License (EPL).\n",
      "         For more information visit http://projects.coin-or.org/Ipopt\n",
      "******************************************************************************\n",
      "\n",
      "This is Ipopt version 3.12.8, running with linear solver mumps.\n",
      "NOTE: Other linear solvers might be more efficient (see Ipopt documentation).\n",
      "\n",
      "Number of nonzeros in equality constraint Jacobian...:        0\n",
      "Number of nonzeros in inequality constraint Jacobian.:      261\n",
      "Number of nonzeros in Lagrangian Hessian.............:        9\n",
      "\n",
      "Total number of variables............................:       27\n",
      "                     variables with only lower bounds:        0\n",
      "                variables with lower and upper bounds:       27\n",
      "                     variables with only upper bounds:        0\n",
      "Total number of equality constraints.................:        0\n",
      "Total number of inequality constraints...............:       18\n",
      "        inequality constraints with only lower bounds:        0\n",
      "   inequality constraints with lower and upper bounds:        0\n",
      "        inequality constraints with only upper bounds:       18\n",
      "\n",
      "iter    objective    inf_pr   inf_du lg(mu)  ||d||  lg(rg) alpha_du alpha_pr  ls\n",
      "   0 -9.9999900e-03 5.96e-01 9.94e-01  -1.0 0.00e+00    -  0.00e+00 0.00e+00   0\n",
      "   1 -4.5012545e-02 3.59e-01 2.19e+00  -1.0 1.83e-01    -  1.07e-01 3.46e-01f  1\n",
      "   2 -9.0082532e-02 2.05e-01 1.33e+00  -1.0 3.08e-01    -  3.04e-01 3.50e-01f  1\n",
      "   3 -2.1047196e-01 7.99e-02 1.34e+00  -1.0 2.66e-01    -  3.63e-01 4.79e-01f  1\n",
      "   4 -9.3808775e-01 5.58e-03 1.31e+00  -1.0 7.28e-01    -  4.59e-01 1.00e+00f  1\n",
      "   5 -1.4068095e+00 0.00e+00 6.86e-02  -1.0 4.69e-01    -  1.00e+00 1.00e+00h  1\n",
      "   6 -1.5703325e+00 0.00e+00 2.75e+00  -2.5 2.97e-01    -  8.37e-01 5.51e-01f  1\n",
      "   7 -1.5673853e+00 0.00e+00 3.47e-03  -2.5 4.81e-03    -  1.00e+00 1.00e+00h  1\n",
      "   8 -1.5707206e+00 0.00e+00 1.30e-04  -3.8 3.34e-03    -  1.00e+00 1.00e+00f  1\n",
      "   9 -1.5707946e+00 0.00e+00 1.33e-06  -5.7 3.16e-04    -  1.00e+00 1.00e+00h  1\n",
      "iter    objective    inf_pr   inf_du lg(mu)  ||d||  lg(rg) alpha_du alpha_pr  ls\n",
      "  10 -1.5707963e+00 0.00e+00 1.78e-09  -8.6 3.48e-05    -  1.00e+00 1.00e+00h  1\n",
      "\n",
      "Number of Iterations....: 10\n",
      "\n",
      "                                   (scaled)                 (unscaled)\n",
      "Objective...............:  -1.5707963400230565e+00   -1.5707963400230565e+00\n",
      "Dual infeasibility......:   1.7820146675748628e-09    1.7820146675748628e-09\n",
      "Constraint violation....:   0.0000000000000000e+00    0.0000000000000000e+00\n",
      "Complementarity.........:   2.9804669466721527e-09    2.9804669466721527e-09\n",
      "Overall NLP error.......:   2.9804669466721527e-09    2.9804669466721527e-09\n",
      "\n",
      "\n",
      "Number of objective function evaluations             = 11\n",
      "Number of objective gradient evaluations             = 11\n",
      "Number of equality constraint evaluations            = 0\n",
      "Number of inequality constraint evaluations          = 11\n",
      "Number of equality constraint Jacobian evaluations   = 0\n",
      "Number of inequality constraint Jacobian evaluations = 11\n",
      "Number of Lagrangian Hessian evaluations             = 10\n",
      "Total CPU secs in IPOPT (w/o function evaluations)   =      0.148\n",
      "Total CPU secs in NLP function evaluations           =      0.027\n",
      "\n",
      "EXIT: Optimal Solution Found.\n",
      "w = [0.476322, 0.4188, 0.647154, 0.631251, 0.496601, 0.510255, 0.426365, 0.402743, 0.511561] u = [1.5708, 0.05725, 0.0526651, 0.166695, 0.143201, 0.126549, 0.0775429, 0.0814039, 0.0684811]\n"
     ]
    },
    {
     "data": {
      "text/plain": [
       "0.785018875260288"
      ]
     },
     "execution_count": 6,
     "metadata": {},
     "output_type": "execute_result"
    }
   ],
   "source": [
    "c=ones(size_u);\n",
    "c=zeros(size_u); c[1]=1;\n",
    "\n",
    "m = Model(solver=IpoptSolver());\n",
    "@variable(m, 0 <= w[1:size_w] <= pi/2,start=0)\n",
    "@variable(m, 0 <= sinw[1:size_w] <= 1,start=0)\n",
    "@variable(m, 0 <= u[1:size_u] <= pi/2,start=0)\n",
    "\n",
    "@NLconstraint(m, myconstr[i=1:size_w], sinw[i] <= sin(abs(w_0[i])+w[i]))\n",
    "@constraint(m,gain_mtx[3]*u.<=(eye(size_w)-gain_mtx[4]*diagm(cos.(w_0)))*w-gain_mtx[4]*sin.(abs(w_0))+gain_mtx[4]*sinw)\n",
    "@objective(m, Max, c'*u)\n",
    "solve(m)\n",
    "println(\"w = \", getvalue(w), \" u = \", getvalue(u))\n",
    "\n",
    "sgt_mtx=eye(size_w)-gain_mtx[4]*(diagm(cos.(w_0).*getvalue(w)+D*sin.(w_0)-sin.(abs.(w_0)+getvalue(w))));\n",
    "eigmin(sgt_mtx)"
   ]
  },
  {
   "cell_type": "code",
   "execution_count": 185,
   "metadata": {},
   "outputs": [
    {
     "data": {
      "text/plain": [
       "0.2617993877991494"
      ]
     },
     "execution_count": 185,
     "metadata": {},
     "output_type": "execute_result"
    }
   ],
   "source": [
    "w_max=pi/12*ones(size_w);\n",
    "sgt_mtx=eye(size_w)-gain_mtx[4]*(diagm(cos.(w_0).*w_max+D*sin.(w_0)-sin.(abs.(w_0)+w_max)));\n",
    "eigmin(sgt_mtx)\n",
    "#maximum(getvalue(w))\n",
    "pi/12"
   ]
  }
 ],
 "metadata": {
  "kernelspec": {
   "display_name": "Julia 0.6.0",
   "language": "julia",
   "name": "julia-0.6"
  },
  "language_info": {
   "file_extension": ".jl",
   "mimetype": "application/julia",
   "name": "julia",
   "version": "0.6.0"
  }
 },
 "nbformat": 4,
 "nbformat_minor": 2
}
